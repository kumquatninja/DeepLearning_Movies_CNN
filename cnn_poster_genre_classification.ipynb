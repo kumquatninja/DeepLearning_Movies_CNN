{
 "cells": [
  {
   "cell_type": "markdown",
   "metadata": {},
   "source": [
    "https://www.kaggle.com/neha1703/movie-genre-from-its-poster/"
   ]
  },
  {
   "cell_type": "code",
   "execution_count": 10,
   "metadata": {},
   "outputs": [
    {
     "name": "stdout",
     "output_type": "stream",
     "text": [
      "1.9.0\n"
     ]
    }
   ],
   "source": [
    "from keras.models import Sequential\n",
    "from keras.layers import Dense, Dropout, Flatten, Input\n",
    "from keras.layers import Conv2D, MaxPooling2D, Activation\n",
    "from keras.layers.normalization import BatchNormalization\n",
    "import glob\n",
    "import csv\n",
    "import cv2\n",
    "from numpy import array, asarray, ndarray\n",
    "\n",
    "import numpy as np\n",
    "import tensorflow as tf\n",
    "\n",
    "print(tf.__version__)"
   ]
  },
  {
   "cell_type": "code",
   "execution_count": 35,
   "metadata": {},
   "outputs": [
    {
     "name": "stdout",
     "output_type": "stream",
     "text": [
      "Found 997 images belonging to 1 classes.\n"
     ]
    }
   ],
   "source": [
    "from keras.preprocessing.image import ImageDataGenerator\n",
    "\n",
    "train_datagen = ImageDataGenerator(\n",
    "        rescale=1./255,\n",
    "        shear_range=0.2,\n",
    "        zoom_range=0.2,\n",
    "        horizontal_flip=True)\n",
    "\n",
    "train_generator = train_datagen.flow_from_directory(\n",
    "        'SampleMoviePosters/',\n",
    "        target_size=(150, 150),\n",
    "        batch_size=32,\n",
    "        class_mode='categorical')"
   ]
  },
  {
   "cell_type": "code",
   "execution_count": 11,
   "metadata": {},
   "outputs": [],
   "source": [
    "# training controls\n",
    "batch_size = 25\n",
    "epochs = 1\n",
    "training_size = 0.7\n",
    "\n",
    "# input image dimensions\n",
    "img_rows, img_cols = 268, 182\n",
    "\n",
    "# data holders\n",
    "x_test, x_train = [], []\n",
    "y_test, y_train = [], []\n",
    "tempY = []"
   ]
  },
  {
   "cell_type": "code",
   "execution_count": 22,
   "metadata": {},
   "outputs": [],
   "source": [
    "# open dataset\n",
    "dataset = csv.reader(open('data/MovieGenre.csv',encoding='utf8',errors='replace'), delimiter=',')\n",
    "\n",
    "# skip header line\n",
    "next(dataset)\n",
    "\n",
    "# list of image files in SampleMoviePosters folder\n",
    "flist = glob.glob('SampleMoviePosters/*.jpg')\n",
    "\n",
    "# extract data from CSV file\n",
    "for imdb_id, link, title, score, genre, poster in dataset:\n",
    "    if(score!=\"\"):\n",
    "        if(len((int(imdb_id),float(score)))==2):\n",
    "            tempY.append((int(imdb_id), float(score)))\n",
    "    \n",
    "# size of training data\n",
    "length = int(len(flist)*training_size)"
   ]
  },
  {
   "cell_type": "code",
   "execution_count": 31,
   "metadata": {},
   "outputs": [
    {
     "name": "stdout",
     "output_type": "stream",
     "text": [
      "x_train shape: (0,)\n",
      "0 train samples\n",
      "0 test samples\n"
     ]
    }
   ],
   "source": [
    "# extract image data\n",
    "i=0\n",
    "for filename in flist:\n",
    "    name=int(filename.split('/')[-1][:-4])\n",
    "    for z in tempY:\n",
    "        if(z[0]==name):\n",
    "            img = cv2.imread(filename)\n",
    "            if(i<length):\n",
    "                x_train.append(array(img))\n",
    "                y_train.append(z[1])\n",
    "            else:\n",
    "                x_test.append(array(img))\n",
    "                y_test.append(z[1])\n",
    "    i+=1\n",
    "    \n",
    "#converting the data from lists to numpy arrays\n",
    "x_train = asarray(x_train,dtype=float)\n",
    "x_test = asarray(x_test,dtype=float)\n",
    "y_train = asarray(y_train,dtype=float)\n",
    "y_test = asarray(y_test,dtype=float)\n",
    "\n",
    "#scaling down the RGB data\n",
    "x_train /= 255\n",
    "x_test /= 255\n",
    "\n",
    "#printing stats about the features\n",
    "print('x_train shape:', x_train.shape)\n",
    "print(x_train.shape[0], 'train samples')\n",
    "print(x_test.shape[0], 'test samples')"
   ]
  },
  {
   "cell_type": "code",
   "execution_count": null,
   "metadata": {},
   "outputs": [],
   "source": []
  }
 ],
 "metadata": {
  "kernelspec": {
   "display_name": "Python 3",
   "language": "python",
   "name": "python3"
  },
  "language_info": {
   "codemirror_mode": {
    "name": "ipython",
    "version": 3
   },
   "file_extension": ".py",
   "mimetype": "text/x-python",
   "name": "python",
   "nbconvert_exporter": "python",
   "pygments_lexer": "ipython3",
   "version": "3.6.5"
  }
 },
 "nbformat": 4,
 "nbformat_minor": 2
}
