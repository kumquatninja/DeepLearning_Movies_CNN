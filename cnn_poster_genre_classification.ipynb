{
 "cells": [
  {
   "cell_type": "markdown",
   "metadata": {},
   "source": [
    "https://www.kaggle.com/neha1703/movie-genre-from-its-poster/kernels"
   ]
  },
  {
   "cell_type": "code",
   "execution_count": 8,
   "metadata": {},
   "outputs": [
    {
     "name": "stdout",
     "output_type": "stream",
     "text": [
      "1.9.0\n"
     ]
    }
   ],
   "source": [
    "from keras.models import Sequential\n",
    "from keras.layers import Dense, Dropout, Flatten, Input\n",
    "from keras.layers import Conv2D, MaxPooling2D, Activation\n",
    "from keras.layers.normalization import BatchNormalization\n",
    "import glob\n",
    "import csv\n",
    "#import cv2\n",
    "from numpy import array, asarray, ndarray\n",
    "\n",
    "import numpy as np\n",
    "import tensorflow as tf\n",
    "\n",
    "print(tf.__version__)"
   ]
  },
  {
   "cell_type": "code",
   "execution_count": 9,
   "metadata": {},
   "outputs": [],
   "source": [
    "# training controls\n",
    "batch_size = 25\n",
    "epochs = 1\n",
    "training_size = 0.7\n",
    "\n",
    "# input image dimensions\n",
    "img_rows, img_cols = 268, 182\n",
    "\n",
    "# data holders\n",
    "x_test, x_train = [], []\n",
    "y_test, y_train = [], []\n",
    "tempY = []"
   ]
  },
  {
   "cell_type": "code",
   "execution_count": 11,
   "metadata": {},
   "outputs": [],
   "source": [
    "# open dataset\n",
    "dataset = csv.reader(open('data/MovieGenre.csv',encoding='utf8',errors='replace'), delimiter=',')\n",
    "\n",
    "# skip header line\n",
    "next(dataset)\n",
    "\n",
    "# list of image files in SampleMoviePosters folder\n",
    "flist = glob.glob('SampleMoviePosters/*.jpg')\n",
    "\n",
    "# extract data from CSV file\n",
    "for imdb_id, link, score, genre, poster:\n",
    "    tempY.append(int(imdb_id), float(score))\n",
    "    \n",
    "# size of training data\n",
    "length = int(len(flist)*training_size)"
   ]
  },
  {
   "cell_type": "code",
   "execution_count": 12,
   "metadata": {},
   "outputs": [],
   "source": [
    "# extract image data\n",
    "i = 0\n",
    "for filename in flist:\n",
    "    name = int(filename.split('/')[-1][:-4])\n",
    "    for z in tempY:\n",
    "        if( z[0] == name ):\n",
    "            pass\n",
    "            #img = cv2.imread"
   ]
  },
  {
   "cell_type": "code",
   "execution_count": null,
   "metadata": {},
   "outputs": [],
   "source": []
  }
 ],
 "metadata": {
  "kernelspec": {
   "display_name": "Python 3",
   "language": "python",
   "name": "python3"
  },
  "language_info": {
   "codemirror_mode": {
    "name": "ipython",
    "version": 3
   },
   "file_extension": ".py",
   "mimetype": "text/x-python",
   "name": "python",
   "nbconvert_exporter": "python",
   "pygments_lexer": "ipython3",
   "version": "3.6.5"
  }
 },
 "nbformat": 4,
 "nbformat_minor": 2
}
