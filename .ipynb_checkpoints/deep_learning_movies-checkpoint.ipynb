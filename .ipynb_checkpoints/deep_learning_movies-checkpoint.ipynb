{
 "cells": [
  {
   "cell_type": "markdown",
   "metadata": {},
   "source": [
    "# Keras Transfer Learning with Movie Posters\n",
    "\n",
    "by Parwesh Rallapalli\n",
    "\n",
    "To interface with the Kaggle dataset:\n",
    "https://www.kaggle.com/sohier/film-recommendation-engine-converted-to-use-tmdb\n",
    "\n",
    "Using Keras with CSV: http://nghiaho.com/?p=2333\n",
    "\n",
    "Transfer Learning with Keras: https://www.kaggle.com/abnera/transfer-learning-keras-xception-cnn\n",
    "\n",
    "MovieLens: https://grouplens.org/datasets/movielens/\n",
    "\n",
    "AlexNet in Keras: https://engmrk.com/alexnet-implementation-using-keras/"
   ]
  },
  {
   "cell_type": "code",
   "execution_count": 1,
   "metadata": {},
   "outputs": [
    {
     "name": "stderr",
     "output_type": "stream",
     "text": [
      "/home/parweshrallapalli/anaconda3/lib/python3.6/site-packages/h5py/__init__.py:36: FutureWarning: Conversion of the second argument of issubdtype from `float` to `np.floating` is deprecated. In future, it will be treated as `np.float64 == np.dtype(float).type`.\n",
      "  from ._conv import register_converters as _register_converters\n"
     ]
    },
    {
     "name": "stdout",
     "output_type": "stream",
     "text": [
      "1.9.0\n"
     ]
    }
   ],
   "source": [
    "import numpy as np\n",
    "import tensorflow as tf\n",
    "\n",
    "print(tf.__version__)"
   ]
  },
  {
   "cell_type": "markdown",
   "metadata": {},
   "source": [
    "https://github.com/kuk/log-progress"
   ]
  },
  {
   "cell_type": "code",
   "execution_count": 2,
   "metadata": {},
   "outputs": [],
   "source": [
    "def log_progress(sequence, every=None, size=None, name='Items'):\n",
    "    from ipywidgets import IntProgress, HTML, VBox\n",
    "    from IPython.display import display\n",
    "\n",
    "    is_iterator = False\n",
    "    if size is None:\n",
    "        try:\n",
    "            size = len(sequence)\n",
    "        except TypeError:\n",
    "            is_iterator = True\n",
    "    if size is not None:\n",
    "        if every is None:\n",
    "            if size <= 200:\n",
    "                every = 1\n",
    "            else:\n",
    "                every = int(size / 200)     # every 0.5%\n",
    "    else:\n",
    "        assert every is not None, 'sequence is iterator, set every'\n",
    "\n",
    "    if is_iterator:\n",
    "        progress = IntProgress(min=0, max=1, value=1)\n",
    "        progress.bar_style = 'info'\n",
    "    else:\n",
    "        progress = IntProgress(min=0, max=size, value=0)\n",
    "    label = HTML()\n",
    "    box = VBox(children=[label, progress])\n",
    "    display(box)\n",
    "\n",
    "    index = 0\n",
    "    try:\n",
    "        for index, record in enumerate(sequence, 1):\n",
    "            if index == 1 or index % every == 0:\n",
    "                if is_iterator:\n",
    "                    label.value = '{name}: {index} / ?'.format(\n",
    "                        name=name,\n",
    "                        index=index\n",
    "                    )\n",
    "                else:\n",
    "                    progress.value = index\n",
    "                    label.value = u'{name}: {index} / {size}'.format(\n",
    "                        name=name,\n",
    "                        index=index,\n",
    "                        size=size\n",
    "                    )\n",
    "            yield record\n",
    "    except:\n",
    "        progress.bar_style = 'danger'\n",
    "        raise\n",
    "    else:\n",
    "        progress.bar_style = 'success'\n",
    "        progress.value = index\n",
    "        label.value = \"{name}: {index}\".format(\n",
    "            name=name,\n",
    "            index=str(index or '?')\n",
    "        )"
   ]
  },
  {
   "cell_type": "markdown",
   "metadata": {},
   "source": [
    "__Load `movies_metadata.csv` file and download movie posters__\n",
    "\n",
    "The Movies Dataset: https://www.kaggle.com/rounakbanik/the-movies-dataset\n",
    ">These files contain metadata for all 45,000 movies listed in the Full MovieLens Dataset. The dataset consists of movies released on or before July 2017. Data points include cast, crew, plot keywords, budget, revenue, posters, release dates, languages, production companies, countries, TMDB vote counts and vote averages.\n",
    "\n",
    ">This dataset also has files containing 26 million ratings from 270,000 users for all 45,000 movies. Ratings are on a scale of 1-5 and have been obtained from the official GroupLens website.\n",
    "\n",
    "Extract poster image paths (500 x 750 px)"
   ]
  },
  {
   "cell_type": "code",
   "execution_count": 3,
   "metadata": {
    "scrolled": true
   },
   "outputs": [],
   "source": [
    "import os\n",
    "import sys\n",
    "import csv\n",
    "import urllib.request\n",
    "\n",
    "def download_poster_images(path, num):\n",
    "    with open('data/movies_metadata.csv') as f:\n",
    "        reader = csv.DictReader(f)\n",
    "        i = 0\n",
    "        count = 0\n",
    "        for row in log_progress(reader, every=1, size=num, name='Images Downloaded'):\n",
    "            if count = 5:\n",
    "                image_path = 'https://image.tmdb.org/t/p/w500'+str(row['poster_path'])\n",
    "                title = str(row['original_title'])\n",
    "                fullfilename = os.path.join(path, title+'.jpg') \n",
    "                print(\"{:20s} {:s}\".format(title, image_path))\n",
    "                #sys.stdout.flush()\n",
    "                urllib.request.urlretrieve(image_path, fullfilename)\n",
    "                count = 0\n",
    "            count += 1\n",
    "            i += 1\n",
    "            if(i==num):\n",
    "                break\n",
    "    \n",
    "\n",
    "def delete_poster_images(path):\n",
    "    filelist = [f for f in os.listdir(path) if f.endswith('.jpg')]\n",
    "    for f in log_progress(filelist, every=1, name=\"Images Deleted\"):\n",
    "        os.remove(os.path.join(path, f))"
   ]
  },
  {
   "cell_type": "code",
   "execution_count": 4,
   "metadata": {},
   "outputs": [],
   "source": [
    "import json\n",
    "import pandas as pd\n",
    "\n",
    "def load_tmdb_movies(path):\n",
    "    df = pd.read_csv(path)\n",
    "    df['release_date'] = pd.to_datetime(df['release_date']).apply(lambda x: x.date())\n",
    "    json_columns = ['genres', 'keywords', 'production_countries', 'production_companies', 'spoken_languages']\n",
    "    for column in json_columns:\n",
    "        df[column] = df[column].apply(json.loads)\n",
    "    return df"
   ]
  },
  {
   "cell_type": "code",
   "execution_count": 5,
   "metadata": {
    "scrolled": true
   },
   "outputs": [
    {
     "data": {
      "application/vnd.jupyter.widget-view+json": {
       "model_id": "a169fd2abb0f41acb6197da80b64548e",
       "version_major": 2,
       "version_minor": 0
      },
      "text/plain": [
       "VBox(children=(HTML(value=''), IntProgress(value=0)))"
      ]
     },
     "metadata": {},
     "output_type": "display_data"
    },
    {
     "name": "stdout",
     "output_type": "stream",
     "text": [
      "Toy Story            https://image.tmdb.org/t/p/w500/rhIRbceoE9lR4veEXuwCC2wARtG.jpg\n",
      "Jumanji              https://image.tmdb.org/t/p/w500/vzmL6fP7aPKNKPRTFnZmiUfciyV.jpg\n",
      "Grumpier Old Men     https://image.tmdb.org/t/p/w500/6ksm1sjKMFLbO7UY2i6G1ju9SML.jpg\n",
      "Waiting to Exhale    https://image.tmdb.org/t/p/w500/16XOMpEaLWkrcPqSQqhTmeJuqQl.jpg\n",
      "Father of the Bride Part II https://image.tmdb.org/t/p/w500/e64sOI48hQXyru7naBFyssKFxVd.jpg\n",
      "Heat                 https://image.tmdb.org/t/p/w500/zMyfPUelumio3tiDKPffaUpsQTD.jpg\n",
      "Sabrina              https://image.tmdb.org/t/p/w500/jQh15y5YB7bWz1NtffNZmRw0s9D.jpg\n",
      "Tom and Huck         https://image.tmdb.org/t/p/w500/sGO5Qa55p7wTu7FJcX4H4xIVKvS.jpg\n",
      "Sudden Death         https://image.tmdb.org/t/p/w500/eoWvKD60lT95Ss1MYNgVExpo5iU.jpg\n",
      "GoldenEye            https://image.tmdb.org/t/p/w500/5c0ovjT41KnYIHYuF4AWsTe3sKh.jpg\n",
      "The American President https://image.tmdb.org/t/p/w500/lymPNGLZgPHuqM29rKMGV46ANij.jpg\n",
      "Dracula: Dead and Loving It https://image.tmdb.org/t/p/w500/xve4cgfYItnOhtzLYoTwTVy5FGr.jpg\n",
      "Balto                https://image.tmdb.org/t/p/w500/gV5PCAVCPNxlOLFM1bKk50EqLXO.jpg\n",
      "Nixon                https://image.tmdb.org/t/p/w500/cICkmCEiXRhvZmbuAlsA5D9B2rK.jpg\n",
      "Cutthroat Island     https://image.tmdb.org/t/p/w500/odM9973kIv9hcjfHPp6g6BlyTIJ.jpg\n",
      "Casino               https://image.tmdb.org/t/p/w500/xo517ibXBDdYQY81j0WIG7BVcWq.jpg\n",
      "Sense and Sensibility https://image.tmdb.org/t/p/w500/lA9HTy84Bb6ZwNeyoZKobcMdpMc.jpg\n",
      "Four Rooms           https://image.tmdb.org/t/p/w500/eQs5hh9rxrk1m4xHsIz1w11Ngqb.jpg\n",
      "Ace Ventura: When Nature Calls https://image.tmdb.org/t/p/w500/wRlGnJhEzcxBjvWtvbjhDSU1cIY.jpg\n",
      "Money Train          https://image.tmdb.org/t/p/w500/jSozzzVOR2kfXgTUuGnbgG2yRFi.jpg\n",
      "Get Shorty           https://image.tmdb.org/t/p/w500/vWtDUUgQAsVyvRW4mE75LBgVm2e.jpg\n",
      "Copycat              https://image.tmdb.org/t/p/w500/80czeJGSoik22fhtUM9WzyjUU4r.jpg\n",
      "Assassins            https://image.tmdb.org/t/p/w500/xAx5MP7Dg4y85pyS7atX6eWk4Qd.jpg\n",
      "Powder               https://image.tmdb.org/t/p/w500/1uRKsxOCtgz0xVqs9l4hYtp4dFm.jpg\n",
      "Leaving Las Vegas    https://image.tmdb.org/t/p/w500/37qHRJxnSh5YkuaN9FgfNnMl3Tj.jpg\n",
      "Othello              https://image.tmdb.org/t/p/w500/qM0BXEQjmnAzlkDZ0tYmV6twqMX.jpg\n",
      "Now and Then         https://image.tmdb.org/t/p/w500/wD6rLdD2Ix3u9YLgE3Do8GyCHoz.jpg\n",
      "Persuasion           https://image.tmdb.org/t/p/w500/si8911IezMvAnQFDvyg1nKzDlD.jpg\n",
      "La Cité des Enfants Perdus https://image.tmdb.org/t/p/w500/eVo6ewq4akfyJYy3GXkMsLNzEJc.jpg\n",
      "摇啊摇，摇到外婆桥            https://image.tmdb.org/t/p/w500/qcoOCoN7viOhboGwhYXyApdDuiq.jpg\n",
      "Dangerous Minds      https://image.tmdb.org/t/p/w500/y5Jee3QmYOlpqfaPPbfvtdVc5wj.jpg\n",
      "Twelve Monkeys       https://image.tmdb.org/t/p/w500/6Sj9wDu3YugthXsU0Vry5XFAZGg.jpg\n",
      "Guillaumet, les ailes du courage https://image.tmdb.org/t/p/w500/k6ODtR38dKEfuzSGjggr8KDyAF4.jpg\n",
      "Babe                 https://image.tmdb.org/t/p/w500/gN6X3fwPya8pLffk9OEWV3DqBnE.jpg\n",
      "Carrington           https://image.tmdb.org/t/p/w500/a7w6rPdTBgWAx6lnhwHemPx9pEw.jpg\n",
      "Dead Man Walking     https://image.tmdb.org/t/p/w500/y19uRkAHXOHLeySuBVMqnvVnsrA.jpg\n",
      "Across the Sea of Time https://image.tmdb.org/t/p/w500/lKOAyy098yjoot8cutYsStVO1WS.jpg\n",
      "It Takes Two         https://image.tmdb.org/t/p/w500/l67WJL3Mjce1yoEgL4HheR5v75D.jpg\n",
      "Clueless             https://image.tmdb.org/t/p/w500/i8gEHh2sszB6YWLC0jl559sxAeN.jpg\n",
      "Cry, the Beloved Country https://image.tmdb.org/t/p/w500/ymA7HQqRiyo1xrnFFv1ZrwNpwlb.jpg\n",
      "Richard III          https://image.tmdb.org/t/p/w500/e8nuS9GQoSFaqld4hW5erk2ccag.jpg\n",
      "Dead Presidents      https://image.tmdb.org/t/p/w500/2dLyvXVvJXUR9otoqERkYpao1bB.jpg\n",
      "Restoration          https://image.tmdb.org/t/p/w500/aqQdEQ1ZVdzrREJxCoPzTlLgHVw.jpg\n",
      "Mortal Kombat        https://image.tmdb.org/t/p/w500/bdXWixjWVA7Y03PvW74xufrROiJ.jpg\n",
      "To Die For           https://image.tmdb.org/t/p/w500/zCREx8trzejNieDLUsRuwLU0cS3.jpg\n",
      "How To Make An American Quilt https://image.tmdb.org/t/p/w500/wnWAZHbjX5Wj6hyb0gGmFdMADZk.jpg\n",
      "Se7en                https://image.tmdb.org/t/p/w500/8zw8IL4zEPjkh8Aysdcd0FwGMb0.jpg\n",
      "Pocahontas           https://image.tmdb.org/t/p/w500/qk95miOV8wDABbO5gyCpCrvbVFu.jpg\n",
      "When Night Is Falling https://image.tmdb.org/t/p/w500/wnUuYc9XnWrTTAGz8YjjULA3Zmr.jpg\n",
      "The Usual Suspects   https://image.tmdb.org/t/p/w500/jgJoRWltoS17nD5MAQ1yK2Ztefw.jpg\n",
      "Guardian Angel       https://image.tmdb.org/t/p/w500/hwbKoOSUuzuN2AQppnUxwwd4qOD.jpg\n",
      "Mighty Aphrodite     https://image.tmdb.org/t/p/w500/2NcPyb9vPehZ0aOjYayDAW1XeVy.jpg\n",
      "Lamerica             https://image.tmdb.org/t/p/w500/407nYlg60AOj95lqDZ4tvUTTm1k.jpg\n",
      "The Big Green        https://image.tmdb.org/t/p/w500/erWfSEcjO4LG69Tlm2mED5JMSqH.jpg\n",
      "Georgia              https://image.tmdb.org/t/p/w500/5OTTRuKfiso75xofN8Vl5mRXOQP.jpg\n",
      "Kids of the Round Table https://image.tmdb.org/t/p/w500/tL9ImxOccEshRlgmrKQabKH2tCd.jpg\n",
      "Home for the Holidays https://image.tmdb.org/t/p/w500/97EKLaslQ4gzkvALtqGCDOmsGHk.jpg\n",
      "Il postino           https://image.tmdb.org/t/p/w500/qkq2JfINRQi4Iu9VTMMtQFfmGWZ.jpg\n",
      "Le confessionnal     https://image.tmdb.org/t/p/w500/8RCRrSAY8e3Qn5p9cNv188ogmZQ.jpg\n",
      "The Indian in the Cupboard https://image.tmdb.org/t/p/w500/l16BtfILyWxYwSqzofL3V1rMSwe.jpg\n",
      "Eye for an Eye       https://image.tmdb.org/t/p/w500/y2lZSdJ1o0VvLegTw3ad6KFtxra.jpg\n",
      "Mr. Holland's Opus   https://image.tmdb.org/t/p/w500/jYEKdpVvRV3KdyHMUVYyg0KTVSY.jpg\n",
      "Don't Be a Menace to South Central While Drinking Your Juice in the Hood https://image.tmdb.org/t/p/w500/l6D9f9WbxdI4tyCmJGs56y8tQla.jpg\n",
      "Two If by Sea        https://image.tmdb.org/t/p/w500/e0iwJJiLjk8Z6A9TuL3neX504H3.jpg\n",
      "Bio-Dome             https://image.tmdb.org/t/p/w500/1bAUaipv3gDU1pATGwziyq1VTwZ.jpg\n",
      "Lawnmower Man 2: Beyond Cyberspace https://image.tmdb.org/t/p/w500/i0hBsWBLw64XRehFzCL44PaCs1y.jpg\n",
      "Two Bits             https://image.tmdb.org/t/p/w500/k4jOFtt7NqEtLnoI2Rs3BqKNHtI.jpg\n",
      "Gazon maudit         https://image.tmdb.org/t/p/w500/dDB8mMKRL28gHsRcGPoMQYrzaXg.jpg\n",
      "Friday               https://image.tmdb.org/t/p/w500/kkoGT4bnK5oGiNbzGGcXzrXMSxn.jpg\n",
      "From Dusk Till Dawn  https://image.tmdb.org/t/p/w500/ce0d4kM5KxT4x1Oq8JkSuNYevri.jpg\n",
      "Fair Game            https://image.tmdb.org/t/p/w500/ew0LrIN5fpxdimrErEy9Yry3Nn2.jpg\n",
      "Kicking and Screaming https://image.tmdb.org/t/p/w500/urPxxjylNUHmoNcGkMgHStMTxhF.jpg\n",
      "Les misérables       https://image.tmdb.org/t/p/w500/ePJCk8puXx28CtvpSpmezpwfVt8.jpg\n",
      "Bed of Roses         https://image.tmdb.org/t/p/w500/kTEpzjzyeYER1WuCm7Seul4Fatc.jpg\n",
      "Big Bully            https://image.tmdb.org/t/p/w500/wtFekK9VKWujQW9R9c6sYbir6wm.jpg\n",
      "Screamers            https://image.tmdb.org/t/p/w500/aFEs7D7IQ2IehTsniRIojDkiDl6.jpg\n",
      "Nico Icon            https://image.tmdb.org/t/p/w500/tuIDKBp92R4tGFOB46MofvakfiY.jpg\n",
      "The Crossing Guard   https://image.tmdb.org/t/p/w500/mMXL84GqES2HYpJ0Zt18I7m6mfU.jpg\n",
      "The Juror            https://image.tmdb.org/t/p/w500/7aXOB0DyZPxNOYbaQ2oiNn64jm3.jpg\n",
      "بادکنک سفید          https://image.tmdb.org/t/p/w500/96UDOJNgJXHmQMJqA79bKS9PR8i.jpg\n",
      "Things to Do in Denver When You're Dead https://image.tmdb.org/t/p/w500/ysKIolKO0376Nl5DV1fDAAPudEq.jpg\n",
      "Antonia              https://image.tmdb.org/t/p/w500/bIQp2SJrVXiQttv9hXeqliQox0K.jpg\n",
      "Once Upon a Time... When We Were Colored https://image.tmdb.org/t/p/w500/tsJSlkFSZPQhhVuKrYJXNClYaPD.jpg\n",
      "Last Summer in the Hamptons https://image.tmdb.org/t/p/w500/pfgpkDNcwSi1x4jVzeLqvxTwX5a.jpg\n",
      "Angels and Insects   https://image.tmdb.org/t/p/w500/1QyCF6IFoX5WJIYHOkmLa3vzU0r.jpg\n",
      "White Squall         https://image.tmdb.org/t/p/w500/3a5nomeyzJF4gG26HouCtce99ki.jpg\n",
      "Dunston Checks In    https://image.tmdb.org/t/p/w500/lXSWbUA3T2o792SYdbfFKFTcSC1.jpg\n",
      "Black Sheep          https://image.tmdb.org/t/p/w500/2wsaboVhKXpsLchoaXi0oWmQ7xM.jpg\n",
      "Nick of Time         https://image.tmdb.org/t/p/w500/3kYcyD9yAjdjimYlIiGPfdMVbZb.jpg\n",
      "The Journey of August King https://image.tmdb.org/t/p/w500/hT5CF2RJPAVi9TE4iKxGYAufY4J.jpg\n",
      "Mary Reilly          https://image.tmdb.org/t/p/w500/Oesh4pN5J2ing4flkgkiVdxILP.jpg\n",
      "Vampire in Brooklyn  https://image.tmdb.org/t/p/w500/bH1v8z12ZU7Y6zANgU1B00a86Co.jpg\n",
      "Beautiful Girls      https://image.tmdb.org/t/p/w500/8leYqrAL6EubYjOCZuO6ELPdLYe.jpg\n",
      "Broken Arrow         https://image.tmdb.org/t/p/w500/avqUG5RYB93rwSUNL5r16Vtbc9g.jpg\n",
      "A Midwinter's Tale   https://image.tmdb.org/t/p/w500/6u2N0gn6uUWF4cSdkXmVB8E8q2X.jpg\n",
      "La Haine             https://image.tmdb.org/t/p/w500/jTzBED0leGPwWDqNewye11qzJgd.jpg\n"
     ]
    },
    {
     "name": "stdout",
     "output_type": "stream",
     "text": [
      "Shopping             https://image.tmdb.org/t/p/w500/jdYL6f0KXnYBcnWnwGtnanJtKlE.jpg\n",
      "Heidi Fleiss: Hollywood Madam https://image.tmdb.org/t/p/w500/j9k3UTx7OZ0xoCws1oACYQZFF5N.jpg\n",
      "City Hall            https://image.tmdb.org/t/p/w500/ttdjD9NpxXsTJidPT3o1Gk0oTkG.jpg\n",
      "Bottle Rocket        https://image.tmdb.org/t/p/w500/iuO10cRKrMfql5yc8YTgdfHt7gR.jpg\n"
     ]
    }
   ],
   "source": [
    "#from IPython.lib import backgroundjobs as bg\n",
    "#jobs = bg.BackgroundJobManager()\n",
    "#jobs.new(fetch_urls, log_progress)\n",
    "poster_images_folder_path = os.path.join(os.getcwd(), 'poster_images')\n",
    "download_poster_images(poster_images_folder_path, 100)"
   ]
  },
  {
   "cell_type": "markdown",
   "metadata": {},
   "source": [
    "100 poster images ==> 100 training examples\n",
    "\n",
    "**Genres included in the MovieLens dataset:**\n",
    "\n",
    "    Action\n",
    "    Adventure\n",
    "    Animation\n",
    "    Children's\n",
    "    Comedy\n",
    "    Crime\n",
    "    Documentary\n",
    "    Drama\n",
    "    Fantasy\n",
    "    Film-Noir\n",
    "    Horror\n",
    "    Musical\n",
    "    Mystery\n",
    "    Romance\n",
    "    Sci-Fi\n",
    "    Thriller\n",
    "    War\n",
    "    Western\n",
    "    (no genres listed)\n",
    "   \n",
    " 19 total genres ==> 19 classes\n",
    " \n",
    " https://github.com/keras-team/keras/blob/master/examples/mnist_cnn.py\n",
    " \n",
    " https://keras.io/preprocessing/image/\n",
    " \n",
    "__Example of using .flow_from_directory(directory):__\n",
    "\n",
    "`train_datagen = ImageDataGenerator(\n",
    "        rescale=1./255,\n",
    "        shear_range=0.2,\n",
    "        zoom_range=0.2,\n",
    "        horizontal_flip=True)`\n",
    "\n",
    "`test_datagen = ImageDataGenerator(rescale=1./255)`\n",
    "\n",
    "`train_generator = train_datagen.flow_from_directory(\n",
    "        'data/train',\n",
    "        target_size=(150, 150),\n",
    "        batch_size=32,\n",
    "        class_mode='binary')`\n",
    "\n",
    "`validation_generator = test_datagen.flow_from_directory(\n",
    "        'data/validation',\n",
    "        target_size=(150, 150),\n",
    "        batch_size=32,\n",
    "        class_mode='binary')`\n",
    "\n",
    "`model.fit_generator(\n",
    "        train_generator,\n",
    "        steps_per_epoch=2000,\n",
    "        epochs=50,\n",
    "        validation_data=validation_generator,\n",
    "        validation_steps=800)`"
   ]
  },
  {
   "cell_type": "code",
   "execution_count": null,
   "metadata": {},
   "outputs": [],
   "source": [
    "batch_size = 3\n",
    "num_classes = 19  #19 genres\n",
    "epochs = 10"
   ]
  },
  {
   "cell_type": "code",
   "execution_count": 6,
   "metadata": {},
   "outputs": [
    {
     "name": "stderr",
     "output_type": "stream",
     "text": [
      "Using TensorFlow backend.\n"
     ]
    },
    {
     "ename": "NameError",
     "evalue": "name 'train_datagen' is not defined",
     "output_type": "error",
     "traceback": [
      "\u001b[0;31m---------------------------------------------------------------------------\u001b[0m",
      "\u001b[0;31mNameError\u001b[0m                                 Traceback (most recent call last)",
      "\u001b[0;32m<ipython-input-6-7ebe3cde2bf3>\u001b[0m in \u001b[0;36m<module>\u001b[0;34m()\u001b[0m\n\u001b[1;32m      6\u001b[0m \u001b[0;31m#filelist = [f for f in poster_images_folder_path if f.endswith('.jpg')]\u001b[0m\u001b[0;34m\u001b[0m\u001b[0;34m\u001b[0m\u001b[0m\n\u001b[1;32m      7\u001b[0m \u001b[0;34m\u001b[0m\u001b[0m\n\u001b[0;32m----> 8\u001b[0;31m train_generator = train_datagen.flow_from_directory(\n\u001b[0m\u001b[1;32m      9\u001b[0m     \u001b[0mposter_images_folder_path\u001b[0m\u001b[0;34m,\u001b[0m\u001b[0;34m\u001b[0m\u001b[0m\n\u001b[1;32m     10\u001b[0m     \u001b[0mtarget_size\u001b[0m\u001b[0;34m=\u001b[0m\u001b[0;34m(\u001b[0m\u001b[0mimg_rows\u001b[0m\u001b[0;34m,\u001b[0m \u001b[0mimg_cols\u001b[0m\u001b[0;34m)\u001b[0m\u001b[0;34m,\u001b[0m\u001b[0;34m\u001b[0m\u001b[0m\n",
      "\u001b[0;31mNameError\u001b[0m: name 'train_datagen' is not defined"
     ]
    }
   ],
   "source": [
    "import keras.preprocessing.image\n",
    "from keras.models import Sequential\n",
    "from keras.layers import Dense, Activation\n",
    "\n",
    "img_rows, img_cols = 500, 750 #images are 500x750 px\n",
    "#filelist = [f for f in poster_images_folder_path if f.endswith('.jpg')]\n",
    "\n",
    "train_generator = train_datagen.flow_from_directory(\n",
    "    poster_images_folder_path,\n",
    "    target_size=(img_rows, img_cols),\n",
    "    batch_size=batch_size,\n",
    "    class_mode=binary)"
   ]
  },
  {
   "cell_type": "code",
   "execution_count": null,
   "metadata": {
    "scrolled": true
   },
   "outputs": [],
   "source": [
    "delete_poster_images(poster_images_folder_path)"
   ]
  },
  {
   "cell_type": "code",
   "execution_count": null,
   "metadata": {},
   "outputs": [],
   "source": []
  }
 ],
 "metadata": {
  "kernelspec": {
   "display_name": "Python 3",
   "language": "python",
   "name": "python3"
  },
  "language_info": {
   "codemirror_mode": {
    "name": "ipython",
    "version": 3
   },
   "file_extension": ".py",
   "mimetype": "text/x-python",
   "name": "python",
   "nbconvert_exporter": "python",
   "pygments_lexer": "ipython3",
   "version": "3.6.5"
  }
 },
 "nbformat": 4,
 "nbformat_minor": 2
}
